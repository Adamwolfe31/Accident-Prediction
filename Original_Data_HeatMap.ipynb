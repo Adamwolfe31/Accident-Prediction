{
 "cells": [
  {
   "cell_type": "markdown",
   "metadata": {},
   "source": [
    "# Importing all necessary files"
   ]
  },
  {
   "cell_type": "code",
   "execution_count": 1,
   "metadata": {},
   "outputs": [],
   "source": [
    "import gmaps\n",
    "from ipywidgets import interact, interactive, fixed, interact_manual\n",
    "import ipywidgets as widgets\n",
    "import matplotlib.pyplot as plt\n",
    "%matplotlib inline\n",
    "import pandas as pd\n",
    "import datetime"
   ]
  },
  {
   "cell_type": "markdown",
   "metadata": {},
   "source": [
    "# Make sure home.pkl and accident.plk are under this same directory."
   ]
  },
  {
   "cell_type": "code",
   "execution_count": 2,
   "metadata": {},
   "outputs": [],
   "source": [
    "home = pd.read_pickle(\"home.pkl\")"
   ]
  },
  {
   "cell_type": "markdown",
   "metadata": {},
   "source": [
    "# Converting all time to an hour"
   ]
  },
  {
   "cell_type": "code",
   "execution_count": 3,
   "metadata": {},
   "outputs": [],
   "source": [
    "home[\"sTOD\"] = home.Start_Time.apply(lambda x: pd.to_datetime(x).time())\n",
    "home[\"eTOD\"] = home.End_Time.apply(lambda x: pd.to_datetime(x).time())"
   ]
  },
  {
   "cell_type": "code",
   "execution_count": 4,
   "metadata": {},
   "outputs": [],
   "source": [
    "layer = gmaps.heatmap_layer([[0,0]],point_radius=10,max_intensity=4)\n",
    "fig = gmaps.figure(center=(40.58,-75.57),layout={'width':'900px', 'height': '400px'}, zoom_level=10, map_type=\"HYBRID\")\n",
    "fig.add_layer(layer)"
   ]
  },
  {
   "cell_type": "code",
   "execution_count": 5,
   "metadata": {},
   "outputs": [
    {
     "data": {
      "application/vnd.jupyter.widget-view+json": {
       "model_id": "540243bcbd4e48b4873c024f82567200",
       "version_major": 2,
       "version_minor": 0
      },
      "text/plain": [
       "interactive(children=(IntSlider(value=15, description='Radius', max=30), IntSlider(value=0, description='Hour …"
      ]
     },
     "metadata": {},
     "output_type": "display_data"
    },
    {
     "data": {
      "application/vnd.jupyter.widget-view+json": {
       "model_id": "38824c634c704bfeb32d1be9f3a74c06",
       "version_major": 2,
       "version_minor": 0
      },
      "text/plain": [
       "Figure(layout=FigureLayout(height='400px', width='900px'))"
      ]
     },
     "metadata": {},
     "output_type": "display_data"
    }
   ],
   "source": [
    "@interact(\n",
    "            df = fixed(home),\n",
    "            layer = fixed(layer),\n",
    "            r = widgets.IntSlider(description=\"Radius\",min=0,max=30,step=1,value=15),\n",
    "            t = widgets.IntSlider(description=\"Hour Of Day\",min=0,max=23,step=1,value=0)\n",
    "         )\n",
    "def regenMap(df,layer,r,t):\n",
    "    layer.point_radius = r\n",
    "    time = datetime.datetime(1970,1,1)\n",
    "    time = (time + datetime.timedelta(hours = t)).time()\n",
    "    \n",
    "    mask = (df[\"sTOD\"] <= time) & (df[\"eTOD\"] >= time)\n",
    "    masked = df[mask]\n",
    "    if len(masked.index)>0:\n",
    "        layer.weights = masked.Severity\n",
    "        layer.locations = masked[[\"Start_Lat\",\"Start_Lng\"]]\n",
    "    return time.hour\n",
    "\n",
    "fig"
   ]
  },
  {
   "cell_type": "markdown",
   "metadata": {},
   "source": [
    "# Whole country heatmap"
   ]
  },
  {
   "cell_type": "code",
   "execution_count": null,
   "metadata": {},
   "outputs": [],
   "source": [
    "accident = pd.read_pickle(\"accident.pkl\")"
   ]
  },
  {
   "cell_type": "code",
   "execution_count": null,
   "metadata": {},
   "outputs": [],
   "source": [
    "accident.head()"
   ]
  },
  {
   "cell_type": "code",
   "execution_count": null,
   "metadata": {},
   "outputs": [],
   "source": [
    "layer2 = gmaps.heatmap_layer([[0,0]],point_radius=10,max_intensity=4)\n",
    "fig2 = gmaps.figure(center=(38.1,-99),layout={'width':'900px', 'height': '600px'}, zoom_level=4.2, map_type=\"ROADMAP\")\n",
    "fig2.add_layer(layer2)"
   ]
  },
  {
   "cell_type": "code",
   "execution_count": null,
   "metadata": {},
   "outputs": [],
   "source": [
    "@interact(\n",
    "            df = fixed(accident),\n",
    "            layer = fixed(layer2),\n",
    "            r = widgets.IntSlider(description=\"Radius\",min=0,max=30,step=1,value=4),\n",
    "            t = widgets.IntSlider(description=\"Hour Of Day\",min=0,max=23,step=1,value=0)\n",
    "         )\n",
    "def regenMap(df,layer,r,t):\n",
    "    layer.point_radius = r\n",
    "    time = datetime.datetime(1970,1,1)\n",
    "    time = (time + datetime.timedelta(hours = t)).time()\n",
    "    \n",
    "    mask = (df[\"sTOD\"] <= time) & (df[\"eTOD\"] >= time)#filters to be that certain time\n",
    "    masked = df[mask]\n",
    "    if len(masked.index)>0:\n",
    "        layer.weights = masked.Severity\n",
    "        layer.locations = masked[[\"Start_Lat\",\"Start_Lng\"]]\n",
    "    return time.hour\n",
    "\n",
    "fig2"
   ]
  }
 ],
 "metadata": {
  "kernelspec": {
   "display_name": "Python 3",
   "language": "python",
   "name": "python3"
  },
  "language_info": {
   "codemirror_mode": {
    "name": "ipython",
    "version": 3
   },
   "file_extension": ".py",
   "mimetype": "text/x-python",
   "name": "python",
   "nbconvert_exporter": "python",
   "pygments_lexer": "ipython3",
   "version": "3.7.4"
  }
 },
 "nbformat": 4,
 "nbformat_minor": 4
}
